{
  "cells": [
    {
      "cell_type": "code",
      "execution_count": 1,
      "id": "b955cfc4",
      "metadata": {
        "id": "b955cfc4"
      },
      "outputs": [],
      "source": [
        "import numpy as np\n",
        "import matplotlib.pyplot as plt\n",
        "\n",
        "np.random.seed(0)"
      ]
    },
    {
      "cell_type": "code",
      "execution_count": 2,
      "id": "50ac747f",
      "metadata": {
        "id": "50ac747f"
      },
      "outputs": [],
      "source": [
        "input_data = np.array([[0, 0], [0, 1], [1, 0], [1, 1]])\n",
        "target_values = np.array([[0], [1], [1], [0]])\n"
      ]
    },
    {
      "cell_type": "code",
      "execution_count": 3,
      "id": "06612961",
      "metadata": {
        "id": "06612961"
      },
      "outputs": [],
      "source": [
        "class CustomNeuralNetwork(object):\n",
        "    def __init__(self):\n",
        "        input_layer_neurons = 2\n",
        "        hidden_layer1_neurons = 10\n",
        "        hidden_layer2_neurons = 10\n",
        "        output_layer_neurons = 1\n",
        "\n",
        "        self.learning_rate = 0.2\n",
        "        self.weights_input_hidden1 = np.random.randn(input_layer_neurons, hidden_layer1_neurons)\n",
        "        self.weights_hidden1_hidden2 = np.random.randn(hidden_layer1_neurons, hidden_layer2_neurons)\n",
        "        self.weights_hidden2_output = np.random.randn(hidden_layer2_neurons, output_layer_neurons)\n",
        "\n",
        "    def sigmoid(self, x, derivative=False):\n",
        "        if derivative:\n",
        "            return x * (1 - x)\n",
        "        else:\n",
        "            return 1 / (1 + np.exp(-x))\n",
        "\n",
        "    def feed_forward(self, input_data):\n",
        "        hidden1_input = np.dot(input_data, self.weights_input_hidden1)\n",
        "        self.hidden1_output = self.sigmoid(hidden1_input)\n",
        "\n",
        "        hidden2_input = np.dot(self.hidden1_output, self.weights_hidden1_hidden2)\n",
        "        self.hidden2_output = self.sigmoid(hidden2_input)\n",
        "\n",
        "        output_input = np.dot(self.hidden2_output, self.weights_hidden2_output)\n",
        "        prediction = self.sigmoid(output_input)\n",
        "        return prediction\n",
        "\n",
        "    def backpropagation(self, input_data, target_values, prediction):\n",
        "        output_error = target_values - prediction\n",
        "        output_delta = output_error * self.sigmoid(prediction, derivative=True)\n",
        "\n",
        "        hidden2_error = output_delta.dot(self.weights_hidden2_output.T)\n",
        "        hidden2_delta = hidden2_error * self.sigmoid(self.hidden2_output, derivative=True)\n",
        "\n",
        "        hidden1_error = hidden2_delta.dot(self.weights_hidden1_hidden2.T)\n",
        "        hidden1_delta = hidden1_error * self.sigmoid(self.hidden1_output, derivative=True)\n",
        "\n",
        "        self.weights_hidden2_output += self.hidden2_output.T.dot(output_delta)\n",
        "        self.weights_hidden1_hidden2 += self.hidden1_output.T.dot(hidden2_delta)\n",
        "        self.weights_input_hidden1 += input_data.T.dot(hidden1_delta)\n",
        "\n",
        "    def train(self, input_data, target_values):\n",
        "        prediction = self.feed_forward(input_data)\n",
        "        self.backpropagation(input_data, target_values, prediction)"
      ]
    },
    {
      "cell_type": "code",
      "execution_count": 4,
      "id": "ffdedb2c",
      "metadata": {
        "id": "ffdedb2c"
      },
      "outputs": [],
      "source": [
        "customNN = CustomNeuralNetwork()\n",
        "\n",
        "error_history = []\n",
        "\n",
        "for i in range(10000):\n",
        "    customNN.train(input_data, target_values)\n",
        "    error = np.mean(np.square(target_values - customNN.feed_forward(input_data)))\n",
        "    error_history.append(error)"
      ]
    },
    {
      "cell_type": "code",
      "execution_count": 5,
      "id": "a1f5f4c7",
      "metadata": {
        "colab": {
          "base_uri": "https://localhost:8080/",
          "height": 472
        },
        "id": "a1f5f4c7",
        "outputId": "d24b61bc-cb8f-41b1-8926-5ea2f0df8b7d"
      },
      "outputs": [
        {
          "output_type": "display_data",
          "data": {
            "text/plain": [
              "<Figure size 640x480 with 1 Axes>"
            ],
            "image/png": "[encoded data removed]"
          },
          "metadata": {}
        }
      ],
      "source": [
        "plt.plot(error_history)\n",
        "plt.xlabel('Epoch')\n",
        "plt.ylabel('Error')\n",
        "plt.title('Error Reduction using Custom Neural Network')\n",
        "plt.show()"
      ]
    },
    {
      "cell_type": "code",
      "execution_count": 5,
      "id": "7a09b96a",
      "metadata": {
        "id": "7a09b96a"
      },
      "outputs": [],
      "source": []
    }
  ],
  "metadata": {
    "kernelspec": {
      "display_name": "Python 3 (ipykernel)",
      "language": "python",
      "name": "python3"
    },
    "language_info": {
      "codemirror_mode": {
        "name": "ipython",
        "version": 3
      },
      "file_extension": ".py",
      "mimetype": "text/x-python",
      "name": "python",
      "nbconvert_exporter": "python",
      "pygments_lexer": "ipython3",
      "version": "3.11.5"
    },
    "colab": {
      "provenance": []
    }
  },
  "nbformat": 4,
  "nbformat_minor": 5
}